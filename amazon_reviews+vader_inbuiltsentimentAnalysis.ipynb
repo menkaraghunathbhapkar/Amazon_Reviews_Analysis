{
 "cells": [
  {
   "cell_type": "code",
   "execution_count": 1,
   "metadata": {},
   "outputs": [],
   "source": [
    "import pandas as pd"
   ]
  },
  {
   "cell_type": "code",
   "execution_count": 2,
   "metadata": {},
   "outputs": [],
   "source": [
    "a=pd.read_csv(r\"F:\\\\study\\\\data science\\\\pandas_dataset\\\\amazonreviews.tsv\",sep='\\t')"
   ]
  },
  {
   "cell_type": "code",
   "execution_count": 3,
   "metadata": {},
   "outputs": [
    {
     "data": {
      "text/html": [
       "<div>\n",
       "<style scoped>\n",
       "    .dataframe tbody tr th:only-of-type {\n",
       "        vertical-align: middle;\n",
       "    }\n",
       "\n",
       "    .dataframe tbody tr th {\n",
       "        vertical-align: top;\n",
       "    }\n",
       "\n",
       "    .dataframe thead th {\n",
       "        text-align: right;\n",
       "    }\n",
       "</style>\n",
       "<table border=\"1\" class=\"dataframe\">\n",
       "  <thead>\n",
       "    <tr style=\"text-align: right;\">\n",
       "      <th></th>\n",
       "      <th>label</th>\n",
       "      <th>review</th>\n",
       "    </tr>\n",
       "  </thead>\n",
       "  <tbody>\n",
       "    <tr>\n",
       "      <th>0</th>\n",
       "      <td>pos</td>\n",
       "      <td>Stuning even for the non-gamer: This sound tra...</td>\n",
       "    </tr>\n",
       "    <tr>\n",
       "      <th>1</th>\n",
       "      <td>pos</td>\n",
       "      <td>The best soundtrack ever to anything.: I'm rea...</td>\n",
       "    </tr>\n",
       "    <tr>\n",
       "      <th>2</th>\n",
       "      <td>pos</td>\n",
       "      <td>Amazing!: This soundtrack is my favorite music...</td>\n",
       "    </tr>\n",
       "    <tr>\n",
       "      <th>3</th>\n",
       "      <td>pos</td>\n",
       "      <td>Excellent Soundtrack: I truly like this soundt...</td>\n",
       "    </tr>\n",
       "    <tr>\n",
       "      <th>4</th>\n",
       "      <td>pos</td>\n",
       "      <td>Remember, Pull Your Jaw Off The Floor After He...</td>\n",
       "    </tr>\n",
       "    <tr>\n",
       "      <th>5</th>\n",
       "      <td>pos</td>\n",
       "      <td>an absolute masterpiece: I am quite sure any o...</td>\n",
       "    </tr>\n",
       "    <tr>\n",
       "      <th>6</th>\n",
       "      <td>neg</td>\n",
       "      <td>Buyer beware: This is a self-published book, a...</td>\n",
       "    </tr>\n",
       "    <tr>\n",
       "      <th>7</th>\n",
       "      <td>pos</td>\n",
       "      <td>Glorious story: I loved Whisper of the wicked ...</td>\n",
       "    </tr>\n",
       "    <tr>\n",
       "      <th>8</th>\n",
       "      <td>pos</td>\n",
       "      <td>A FIVE STAR BOOK: I just finished reading Whis...</td>\n",
       "    </tr>\n",
       "    <tr>\n",
       "      <th>9</th>\n",
       "      <td>pos</td>\n",
       "      <td>Whispers of the Wicked Saints: This was a easy...</td>\n",
       "    </tr>\n",
       "  </tbody>\n",
       "</table>\n",
       "</div>"
      ],
      "text/plain": [
       "  label                                             review\n",
       "0   pos  Stuning even for the non-gamer: This sound tra...\n",
       "1   pos  The best soundtrack ever to anything.: I'm rea...\n",
       "2   pos  Amazing!: This soundtrack is my favorite music...\n",
       "3   pos  Excellent Soundtrack: I truly like this soundt...\n",
       "4   pos  Remember, Pull Your Jaw Off The Floor After He...\n",
       "5   pos  an absolute masterpiece: I am quite sure any o...\n",
       "6   neg  Buyer beware: This is a self-published book, a...\n",
       "7   pos  Glorious story: I loved Whisper of the wicked ...\n",
       "8   pos  A FIVE STAR BOOK: I just finished reading Whis...\n",
       "9   pos  Whispers of the Wicked Saints: This was a easy..."
      ]
     },
     "execution_count": 3,
     "metadata": {},
     "output_type": "execute_result"
    }
   ],
   "source": [
    "a.head(10)"
   ]
  },
  {
   "cell_type": "code",
   "execution_count": 4,
   "metadata": {},
   "outputs": [
    {
     "data": {
      "text/plain": [
       "(10000, 2)"
      ]
     },
     "execution_count": 4,
     "metadata": {},
     "output_type": "execute_result"
    }
   ],
   "source": [
    "a.shape"
   ]
  },
  {
   "cell_type": "code",
   "execution_count": 5,
   "metadata": {},
   "outputs": [],
   "source": [
    "a.label.replace({\"pos\":1,\"neg\":0},inplace=True)# consider label as target variable"
   ]
  },
  {
   "cell_type": "code",
   "execution_count": 6,
   "metadata": {},
   "outputs": [],
   "source": [
    "a.review=a.review.str.lower()"
   ]
  },
  {
   "cell_type": "code",
   "execution_count": 7,
   "metadata": {},
   "outputs": [],
   "source": [
    "import nltk"
   ]
  },
  {
   "cell_type": "code",
   "execution_count": 8,
   "metadata": {},
   "outputs": [],
   "source": [
    "from nltk.corpus import stopwords"
   ]
  },
  {
   "cell_type": "code",
   "execution_count": 9,
   "metadata": {},
   "outputs": [],
   "source": [
    "import string"
   ]
  },
  {
   "cell_type": "code",
   "execution_count": 74,
   "metadata": {},
   "outputs": [],
   "source": [
    "def text_process(mess):\n",
    "        \"\"\"\n",
    "        1.remove the punctuation\n",
    "        2.remove the stopwords\n",
    "        3.returnthe list of clean textwords\n",
    "        \"\"\"\n",
    "        nopunc=[char for char in mess if char not in string.punctuation]\n",
    "        nopunc=\"\".join(nopunc)\n",
    "        return[ word for word in nopunc.split() if word not in stopwords.words(\"english\")]"
   ]
  },
  {
   "cell_type": "code",
   "execution_count": 75,
   "metadata": {},
   "outputs": [
    {
     "data": {
      "text/plain": [
       "0       [stuning, even, nongamer, sound, track, beauti...\n",
       "1       [best, soundtrack, ever, anything, im, reading...\n",
       "2       [amazing, soundtrack, favorite, music, time, h...\n",
       "3       [excellent, soundtrack, truly, like, soundtrac...\n",
       "4       [remember, pull, jaw, floor, hearing, youve, p...\n",
       "                              ...                        \n",
       "9995    [revelation, life, small, town, america, early...\n",
       "9996    [great, biography, interesting, journalist, bi...\n",
       "9997    [interesting, subject, poor, presentation, you...\n",
       "9998    [dont, buy, box, looked, used, obviously, new,...\n",
       "9999    [beautiful, pen, fast, delivery, pen, shipped,...\n",
       "Name: review, Length: 10000, dtype: object"
      ]
     },
     "execution_count": 75,
     "metadata": {},
     "output_type": "execute_result"
    }
   ],
   "source": [
    "a[\"review\"].apply(text_process)"
   ]
  },
  {
   "cell_type": "code",
   "execution_count": 78,
   "metadata": {},
   "outputs": [],
   "source": [
    "from wordcloud import WordCloud"
   ]
  },
  {
   "cell_type": "code",
   "execution_count": 79,
   "metadata": {},
   "outputs": [
    {
     "data": {
      "text/plain": [
       "<matplotlib.image.AxesImage at 0x18fb1bc8>"
      ]
     },
     "execution_count": 79,
     "metadata": {},
     "output_type": "execute_result"
    },
    {
     "data": {
      "image/png": "[encoded data removed]",
      "text/plain": [
       "<Figure size 432x288 with 1 Axes>"
      ]
     },
     "metadata": {
      "needs_background": "light"
     },
     "output_type": "display_data"
    }
   ],
   "source": [
    "import matplotlib.pyplot as plt\n",
    "cloud=WordCloud(background_color='red',width=800,height=1000,include_numbers=True).generate(str(a['review']))# differ or change but no of woerds ares same font=count\n",
    "# font size will be acc to count,# by default it consider stopwords and if we want to ignore them then we need to pass as hyterparameter stopwords\n",
    "plt.imshow(cloud)"
   ]
  },
  {
   "cell_type": "code",
   "execution_count": 25,
   "metadata": {},
   "outputs": [],
   "source": [
    "from sklearn.feature_extraction.text import CountVectorizer# to build TDM"
   ]
  },
  {
   "cell_type": "code",
   "execution_count": 26,
   "metadata": {},
   "outputs": [],
   "source": [
    "bow_tranformer=CountVectorizer(analyzer=text_process).fit(a[\"review\"])"
   ]
  },
  {
   "cell_type": "code",
   "execution_count": 27,
   "metadata": {},
   "outputs": [
    {
     "data": {
      "text/plain": [
       "{'stuning': 34189,\n",
       " 'even': 12595,\n",
       " 'nongamer': 24278,\n",
       " 'sound': 33125,\n",
       " 'track': 36325,\n",
       " 'beautiful': 3941,\n",
       " 'paints': 25720,\n",
       " 'senery': 31523,\n",
       " 'mind': 22665,\n",
       " 'well': 38818,\n",
       " 'would': 39538,\n",
       " 'recomend': 29102,\n",
       " 'people': 26193,\n",
       " 'hate': 16497,\n",
       " 'vid': 38116,\n",
       " 'game': 14941,\n",
       " 'music': 23568,\n",
       " 'played': 26823,\n",
       " 'chrono': 6964,\n",
       " 'cross': 8903,\n",
       " 'games': 14971,\n",
       " 'ever': 12608,\n",
       " 'best': 4239,\n",
       " 'backs': 3531,\n",
       " 'away': 3391,\n",
       " 'crude': 8936,\n",
       " 'keyboarding': 19746,\n",
       " 'takes': 34897,\n",
       " 'fresher': 14581,\n",
       " 'step': 33794,\n",
       " 'grate': 15807,\n",
       " 'guitars': 16080,\n",
       " 'soulful': 33109,\n",
       " 'orchestras': 25171,\n",
       " 'impress': 17969,\n",
       " 'anyone': 2530,\n",
       " 'cares': 6094,\n",
       " 'listen': 20917,\n",
       " 'soundtrack': 33147,\n",
       " 'anything': 2538,\n",
       " 'im': 17820,\n",
       " 'reading': 28886,\n",
       " 'lot': 21215,\n",
       " 'reviews': 30044,\n",
       " 'saying': 30943,\n",
       " 'figured': 13711,\n",
       " 'id': 17672,\n",
       " 'write': 39594,\n",
       " 'review': 30033,\n",
       " 'disagree': 10372,\n",
       " 'bit': 4457,\n",
       " 'opinino': 25096,\n",
       " 'yasunori': 39747,\n",
       " 'mitsudas': 22881,\n",
       " 'ultimate': 37007,\n",
       " 'masterpiece': 21946,\n",
       " 'timeless': 35894,\n",
       " 'listening': 20925,\n",
       " 'years': 39776,\n",
       " 'beauty': 3949,\n",
       " 'simply': 32293,\n",
       " 'refuses': 29327,\n",
       " 'fadethe': 13214,\n",
       " 'price': 27683,\n",
       " 'tag': 34868,\n",
       " 'pretty': 27654,\n",
       " 'staggering': 33574,\n",
       " 'must': 23616,\n",
       " 'say': 30938,\n",
       " 'going': 15546,\n",
       " 'buy': 5715,\n",
       " 'cd': 6337,\n",
       " 'much': 23457,\n",
       " 'money': 23020,\n",
       " 'one': 24940,\n",
       " 'feel': 13561,\n",
       " 'worth': 39522,\n",
       " 'every': 12633,\n",
       " 'penny': 26183,\n",
       " 'amazing': 2121,\n",
       " 'favorite': 13493,\n",
       " 'time': 35873,\n",
       " 'hands': 16303,\n",
       " 'intense': 18605,\n",
       " 'sadness': 30721,\n",
       " 'prisoners': 27780,\n",
       " 'fate': 13453,\n",
       " 'means': 22175,\n",
       " 'youve': 39898,\n",
       " 'hope': 17261,\n",
       " 'distant': 10663,\n",
       " 'promise': 27983,\n",
       " 'girl': 15365,\n",
       " 'stole': 33901,\n",
       " 'star': 33639,\n",
       " 'important': 17942,\n",
       " 'inspiration': 18475,\n",
       " 'personally': 26349,\n",
       " 'throughout': 35757,\n",
       " 'teen': 35123,\n",
       " 'higher': 16932,\n",
       " 'energy': 12119,\n",
       " 'tracks': 36337,\n",
       " 'like': 20785,\n",
       " 'times': 35914,\n",
       " 'scar': 30986,\n",
       " 'dreamwatch': 11126,\n",
       " 'chronomantique': 6970,\n",
       " 'indefinably': 18145,\n",
       " 'remeniscent': 29560,\n",
       " 'trigger': 36606,\n",
       " 'absolutely': 1117,\n",
       " 'superb': 34462,\n",
       " 'wellthis': 38881,\n",
       " 'probably': 27803,\n",
       " 'composers': 7842,\n",
       " 'work': 39423,\n",
       " 'havent': 16537,\n",
       " 'heard': 16639,\n",
       " 'xenogears': 39686,\n",
       " 'cant': 5978,\n",
       " 'sure': 34555,\n",
       " 'never': 24015,\n",
       " 'twice': 36889,\n",
       " 'iti': 19064,\n",
       " 'wish': 39233,\n",
       " 'could': 8529,\n",
       " 'give': 15392,\n",
       " '6': 802,\n",
       " 'stars': 33667,\n",
       " 'excellent': 12750,\n",
       " 'truly': 36723,\n",
       " 'enjoy': 12175,\n",
       " 'video': 38119,\n",
       " 'relaxing': 29452,\n",
       " 'peacefulon': 26096,\n",
       " 'disk': 10550,\n",
       " 'favorites': 13494,\n",
       " 'scars': 31015,\n",
       " 'life': 20711,\n",
       " 'death': 9431,\n",
       " 'forest': 14302,\n",
       " 'illusion': 17799,\n",
       " 'fortress': 14393,\n",
       " 'ancient': 2270,\n",
       " 'dragons': 11068,\n",
       " 'lost': 21208,\n",
       " 'fragment': 14466,\n",
       " 'drowned': 11205,\n",
       " 'valleydisk': 37847,\n",
       " 'two': 36907,\n",
       " 'draggons': 11059,\n",
       " 'galdorb': 14924,\n",
       " 'home': 17177,\n",
       " 'gale': 14925,\n",
       " 'girlfriend': 15370,\n",
       " 'likes': 20797,\n",
       " 'zelbessdisk': 39942,\n",
       " 'three': 35727,\n",
       " 'garden': 15034,\n",
       " 'god': 15508,\n",
       " 'chronopolis': 6971,\n",
       " 'fates': 13456,\n",
       " 'jellyfish': 19315,\n",
       " 'sea': 31259,\n",
       " 'burning': 5634,\n",
       " 'orphange': 25265,\n",
       " 'prayer': 27433,\n",
       " 'tower': 36290,\n",
       " 'dragon': 11061,\n",
       " 'radical': 28617,\n",
       " 'dreamers': 11116,\n",
       " 'unstealable': 37545,\n",
       " 'jeweloverall': 19357,\n",
       " 'brought': 5392,\n",
       " 'musicxander': 23603,\n",
       " 'remember': 29550,\n",
       " 'pull': 28246,\n",
       " 'jaw': 19261,\n",
       " 'floor': 14093,\n",
       " 'hearing': 16645,\n",
       " 'know': 19951,\n",
       " 'divine': 10741,\n",
       " 'single': 32339,\n",
       " 'song': 32981,\n",
       " 'tells': 35169,\n",
       " 'story': 33958,\n",
       " 'good': 15582,\n",
       " 'greatest': 15839,\n",
       " 'songs': 32997,\n",
       " 'without': 39266,\n",
       " 'doubt': 10984,\n",
       " 'magical': 21526,\n",
       " 'wind': 39171,\n",
       " 'unstolen': 37548,\n",
       " 'jewel': 19355,\n",
       " 'translation': 36449,\n",
       " 'varies': 37897,\n",
       " 'perfect': 26239,\n",
       " 'ask': 2970,\n",
       " 'mitsuda': 22880,\n",
       " 'poured': 27333,\n",
       " 'heart': 16648,\n",
       " 'wrote': 39642,\n",
       " 'paper': 25795,\n",
       " 'absolute': 1115,\n",
       " 'quite': 28547,\n",
       " 'actually': 1365,\n",
       " 'taking': 34898,\n",
       " 'read': 28859,\n",
       " 'least': 20454,\n",
       " 'whether': 38982,\n",
       " 'aware': 3388,\n",
       " 'contributed': 8254,\n",
       " 'greatly': 15849,\n",
       " 'mood': 23129,\n",
       " 'minute': 22736,\n",
       " 'whole': 39050,\n",
       " 'gamecomposed': 14947,\n",
       " '3': 565,\n",
       " 'cds': 6359,\n",
       " 'exact': 12702,\n",
       " 'count': 8545,\n",
       " 'heartrendering': 16671,\n",
       " 'impressively': 17981,\n",
       " 'remarkable': 29531,\n",
       " 'assure': 3058,\n",
       " 'forget': 14322,\n",
       " 'everything': 12653,\n",
       " 'listener': 20921,\n",
       " 'fastpaced': 13445,\n",
       " 'energetic': 12113,\n",
       " 'dancing': 9247,\n",
       " 'tokage': 36073,\n",
       " 'termina': 35249,\n",
       " 'slower': 32637,\n",
       " 'haunting': 16522,\n",
       " 'purely': 28322,\n",
       " 'beautifully': 3944,\n",
       " 'composed': 7840,\n",
       " 'fantastic': 13359,\n",
       " 'vocals': 38302,\n",
       " 'dreamersthis': 11117,\n",
       " 'videogame': 38127,\n",
       " 'soundtracks': 33149,\n",
       " 'surely': 34558,\n",
       " 'buyer': 5718,\n",
       " 'beware': 4311,\n",
       " 'selfpublished': 31465,\n",
       " 'book': 4824,\n",
       " 'want': 38490,\n",
       " 'whyread': 39075,\n",
       " 'paragraphs': 25824,\n",
       " '5': 744,\n",
       " 'written': 39616,\n",
       " 'ms': 23439,\n",
       " 'haddons': 16170,\n",
       " 'family': 13303,\n",
       " 'friendsor': 14617,\n",
       " 'perhaps': 26273,\n",
       " 'imagine': 17840,\n",
       " 'thingi': 35573,\n",
       " 'spent': 33324,\n",
       " 'evening': 12597,\n",
       " 'friend': 14601,\n",
       " 'hysterics': 17639,\n",
       " 'bits': 4467,\n",
       " 'pieces': 26589,\n",
       " 'another': 2421,\n",
       " 'definitely': 9619,\n",
       " 'bad': 3550,\n",
       " 'enough': 12207,\n",
       " 'entered': 12242,\n",
       " 'kind': 19836,\n",
       " 'worst': 39519,\n",
       " 'contest': 8206,\n",
       " 'believe': 4124,\n",
       " 'amazon': 2129,\n",
       " 'sells': 31482,\n",
       " 'thing': 35571,\n",
       " 'maybe': 22058,\n",
       " 'offer': 24784,\n",
       " '8th': 945,\n",
       " 'grade': 15718,\n",
       " 'term': 35247,\n",
       " 'kill': 19814,\n",
       " 'mockingbirda': 22919,\n",
       " 'haddon': 16169,\n",
       " 'anyway': 2544,\n",
       " 'unless': 37396,\n",
       " 'send': 31518,\n",
       " 'someone': 32943,\n",
       " 'jokestay': 19446,\n",
       " 'far': 13374,\n",
       " 'glorious': 15463,\n",
       " 'loved': 21256,\n",
       " 'whisper': 39018,\n",
       " 'wicked': 39084,\n",
       " 'saints': 30757,\n",
       " 'pleasantly': 26867,\n",
       " 'surprised': 34591,\n",
       " 'changes': 6519,\n",
       " 'normaly': 24356,\n",
       " 'romance': 30410,\n",
       " 'novels': 24477,\n",
       " 'world': 39476,\n",
       " 'raving': 28807,\n",
       " 'bought': 5064,\n",
       " 'brilliant': 5320,\n",
       " 'true': 36711,\n",
       " 'wonderful': 39356,\n",
       " 'told': 36076,\n",
       " 'friends': 14608,\n",
       " 'typical': 36943,\n",
       " 'crime': 8814,\n",
       " 'becuase': 3976,\n",
       " 'missing': 22826,\n",
       " 'warming': 38529,\n",
       " 'five': 13933,\n",
       " 'finished': 13821,\n",
       " 'fell': 13589,\n",
       " 'love': 21249,\n",
       " 'caracters': 6052,\n",
       " 'expected': 12915,\n",
       " 'average': 3345,\n",
       " 'instead': 18514,\n",
       " 'found': 14422,\n",
       " 'books': 4887,\n",
       " 'thought': 35684,\n",
       " 'predict': 27475,\n",
       " 'outcome': 25357,\n",
       " 'shocked': 31978,\n",
       " 'writting': 39624,\n",
       " 'descriptive': 9884,\n",
       " 'broke': 5361,\n",
       " 'julias': 19541,\n",
       " 'felt': 13597,\n",
       " 'reader': 28870,\n",
       " 'lover': 21270,\n",
       " 'dont': 10913,\n",
       " 'let': 20600,\n",
       " 'cover': 8601,\n",
       " 'fool': 14227,\n",
       " 'spectacular': 33284,\n",
       " 'whispers': 39020,\n",
       " 'easy': 11548,\n",
       " 'made': 21492,\n",
       " 'keep': 19688,\n",
       " 'put': 28371,\n",
       " 'downit': 11014,\n",
       " 'left': 20493,\n",
       " 'wanting': 38497,\n",
       " 'follow': 14198,\n",
       " 'coming': 7620,\n",
       " 'soon': 33035,\n",
       " 'used': 37721,\n",
       " 'gotten': 15682,\n",
       " 'enjoyable': 12176,\n",
       " 'complete': 7802,\n",
       " 'waste': 38597,\n",
       " 'typographical': 36948,\n",
       " 'errors': 12433,\n",
       " 'poor': 27128,\n",
       " 'grammar': 15747,\n",
       " 'totally': 36239,\n",
       " 'pathetic': 26001,\n",
       " 'plot': 26904,\n",
       " 'add': 1398,\n",
       " 'nothing': 24412,\n",
       " 'embarrassed': 11926,\n",
       " 'author': 3264,\n",
       " 'disappointed': 10392,\n",
       " 'paid': 25694,\n",
       " 'great': 15834,\n",
       " 'booki': 4854,\n",
       " 'downand': 11006,\n",
       " 'fast': 13432,\n",
       " 'boy': 5117,\n",
       " 'twist': 36902,\n",
       " 'turns': 36838,\n",
       " 'keeps': 19692,\n",
       " 'guessing': 16045,\n",
       " 'happen': 16347,\n",
       " 'next': 24061,\n",
       " 'makes': 21601,\n",
       " 'fall': 13273,\n",
       " 'heat': 16682,\n",
       " 'upit': 37639,\n",
       " 'also': 2049,\n",
       " 'make': 21591,\n",
       " 'angery': 2331,\n",
       " 'go': 15497,\n",
       " 'throu': 35751,\n",
       " 'several': 31712,\n",
       " 'emotions': 11979,\n",
       " 'quick': 28504,\n",
       " 'something': 32953,\n",
       " 'end': 12058,\n",
       " 'day': 9351,\n",
       " 'night': 24115,\n",
       " 'yet': 39816,\n",
       " 'realistic': 28934,\n",
       " 'showed': 32072,\n",
       " 'error': 12432,\n",
       " 'human': 17494,\n",
       " 'fact': 13186,\n",
       " 'writer': 39597,\n",
       " 'loving': 21284,\n",
       " 'side': 32151,\n",
       " 'revengeful': 30019,\n",
       " 'twisted': 36903,\n",
       " 'turned': 36831,\n",
       " 'glass': 15420,\n",
       " 'castle': 6225,\n",
       " 'oh': 24838,\n",
       " 'please': 26869,\n",
       " 'guess': 16041,\n",
       " 'novel': 24463,\n",
       " 'discerning': 10425,\n",
       " 'others': 25311,\n",
       " 'drivel': 11172,\n",
       " 'trouble': 36685,\n",
       " 'typo': 36947,\n",
       " 'prominently': 27980,\n",
       " 'featured': 13530,\n",
       " 'back': 3501,\n",
       " 'first': 13880,\n",
       " 'page': 25683,\n",
       " 'removed': 29590,\n",
       " 'wait': 38422,\n",
       " 'point': 27003,\n",
       " 'reread': 29773,\n",
       " 'beginning': 4056,\n",
       " 'clear': 7187,\n",
       " 'intentional': 18614,\n",
       " 'churning': 6997,\n",
       " 'overheated': 25510,\n",
       " 'prose': 28058,\n",
       " 'satiric': 30891,\n",
       " 'purposes': 28349,\n",
       " 'phew': 26447,\n",
       " 'glad': 15404,\n",
       " 'didnt': 10163,\n",
       " '1095': 71,\n",
       " 'awful': 3413,\n",
       " 'beyond': 4323,\n",
       " 'belief': 4117,\n",
       " 'wasting': 38603,\n",
       " 'seems': 31372,\n",
       " '7th': 905,\n",
       " 'grader': 15720,\n",
       " 'grammatical': 15749,\n",
       " 'skills': 32484,\n",
       " 'age': 1672,\n",
       " 'reviewer': 30037,\n",
       " 'points': 27013,\n",
       " 'misspelling': 22841,\n",
       " 'per': 26215,\n",
       " 'chapter': 6550,\n",
       " 'example': 12726,\n",
       " 'mentioned': 22381,\n",
       " 'lean': 20429,\n",
       " 'house': 17397,\n",
       " 'distracted': 10683,\n",
       " 'writing': 39609,\n",
       " 'weak': 38702,\n",
       " 'decided': 9497,\n",
       " 'pencil': 26168,\n",
       " 'hand': 16271,\n",
       " 'mark': 21830,\n",
       " 'horrible': 17307,\n",
       " 'spelling': 33314,\n",
       " 'authors': 3281,\n",
       " 'relatives': 29443,\n",
       " 'faith': 13255,\n",
       " 'try': 36750,\n",
       " 'us': 37699,\n",
       " 'fake': 13264,\n",
       " 'glaringly': 15418,\n",
       " 'obvious': 24677,\n",
       " 'glowing': 15475,\n",
       " 'person': 26340,\n",
       " 'misspellings': 22842,\n",
       " 'sentence': 31564,\n",
       " 'structure': 34125,\n",
       " 'veronica': 38023,\n",
       " 'think': 35586,\n",
       " 'romantic': 30418,\n",
       " 'zen': 39946,\n",
       " 'baseball': 3759,\n",
       " 'comedy': 7584,\n",
       " 'hear': 16637,\n",
       " 'folks': 14190,\n",
       " 'em': 11901,\n",
       " 'anymore': 2523,\n",
       " 'might': 22604,\n",
       " 'talking': 34919,\n",
       " 'cool': 8347,\n",
       " 'young': 39864,\n",
       " 'cuban': 8997,\n",
       " 'searching': 31284,\n",
       " 'idenity': 17691,\n",
       " 'stumbles': 34186,\n",
       " 'coastal': 7364,\n",
       " 'resort': 29849,\n",
       " 'kitchen': 19886,\n",
       " 'gig': 15313,\n",
       " 'motorcycle': 23284,\n",
       " 'maintenance': 21580,\n",
       " 'man': 21654,\n",
       " 'hysterical': 17637,\n",
       " 'italian': 18998,\n",
       " 'chefs': 6730,\n",
       " 'latino': 20290,\n",
       " 'fireballing': 13845,\n",
       " 'right': 30189,\n",
       " 'handed': 16280,\n",
       " 'pitcher': 26687,\n",
       " 'plays': 26852,\n",
       " 'team': 35060,\n",
       " 'sponsored': 33431,\n",
       " 'resorts': 29852,\n",
       " 'owner': 25603,\n",
       " 'often': 24830,\n",
       " 'case': 6189,\n",
       " 'finds': 13790,\n",
       " 'honest': 17218,\n",
       " 'comical': 7614,\n",
       " 'always': 2098,\n",
       " 'emotional': 11975,\n",
       " 'interaction': 18623,\n",
       " 'sizzling': 32440,\n",
       " 'roster': 30480,\n",
       " 'players': 26830,\n",
       " 'mix': 22884,\n",
       " 'special': 33253,\n",
       " 'effects': 11692,\n",
       " 'salsa': 30778,\n",
       " 'flashbacks': 13982,\n",
       " 'gets': 15255,\n",
       " '4': 658,\n",
       " 'big': 4355,\n",
       " 'fashionable': 13425,\n",
       " 'compression': 7867,\n",
       " 'stockings': 33892,\n",
       " 'dvt': 11414,\n",
       " 'doctor': 10793,\n",
       " 'required': 29767,\n",
       " 'wear': 38720,\n",
       " 'wore': 39422,\n",
       " 'ugly': 36986,\n",
       " 'white': 39026,\n",
       " 'ted': 35113,\n",
       " 'hose': 17350,\n",
       " 'yucky': 39907,\n",
       " 'thick': 35554,\n",
       " 'brown': 5395,\n",
       " 'jobst': 19413,\n",
       " 'ultrasheer': 37013,\n",
       " 'gave': 15096,\n",
       " 'needed': 23908,\n",
       " '1520': 173,\n",
       " 'looked': 21145,\n",
       " 'regular': 29368,\n",
       " 'pantyhose': 25792,\n",
       " 'though': 35677,\n",
       " 'blood': 4624,\n",
       " 'clot': 7309,\n",
       " 'gone': 15574,\n",
       " 'still': 33850,\n",
       " 'support': 34519,\n",
       " 'legs': 20533,\n",
       " 'nicenote': 24076,\n",
       " 'problems': 27818,\n",
       " 'rubberized': 30549,\n",
       " 'tops': 36183,\n",
       " 'rolling': 30403,\n",
       " 'thigh': 35561,\n",
       " 'tried': 36600,\n",
       " 'adhesive': 1436,\n",
       " 'hated': 16500,\n",
       " 'skin': 32493,\n",
       " 'pulled': 28247,\n",
       " 'inexpensive': 18231,\n",
       " 'garter': 15058,\n",
       " 'belt': 4162,\n",
       " 'works': 39461,\n",
       " 'fine': 13791,\n",
       " 'helps': 16785,\n",
       " 'high': 16927,\n",
       " 'product': 27863,\n",
       " 'however': 17431,\n",
       " 'difficult': 10227,\n",
       " 'get': 15245,\n",
       " 'older': 24878,\n",
       " 'ive': 19147,\n",
       " 'full': 14721,\n",
       " 'workout': 39456,\n",
       " 'getting': 15258,\n",
       " 'wears': 38728,\n",
       " 'begin': 4043,\n",
       " 'roll': 30391,\n",
       " 'top': 36163,\n",
       " 'create': 8745,\n",
       " 'deep': 9552,\n",
       " 'ridge': 30167,\n",
       " 'difficulties': 10228,\n",
       " 'addressed': 1421,\n",
       " 'help': 16770,\n",
       " 'sizes': 32434,\n",
       " 'recomended': 29106,\n",
       " 'size': 32427,\n",
       " 'chart': 6648,\n",
       " 'real': 28917,\n",
       " 'smaller': 32670,\n",
       " 'sheer': 31875,\n",
       " 'item': 19034,\n",
       " 'internetit': 18687,\n",
       " 'better': 4279,\n",
       " 'store': 33931,\n",
       " 'check': 6695,\n",
       " 'mens': 22371,\n",
       " 'model': 22928,\n",
       " 'may': 22056,\n",
       " 'ok': 24851,\n",
       " 'sedentary': 31342,\n",
       " 'types': 36939,\n",
       " 'active': 1340,\n",
       " 'around': 2845,\n",
       " 'alot': 2034,\n",
       " 'job': 19404,\n",
       " 'consistently': 8119,\n",
       " 'rolled': 30395,\n",
       " 'ankles': 2367,\n",
       " 'solution': 32925,\n",
       " 'standard': 33615,\n",
       " 'stocking': 33891,\n",
       " '2030': 413,\n",
       " 'stock': 33887,\n",
       " '114622': 100,\n",
       " 'stays': 33751,\n",
       " 'gives': 15398,\n",
       " 'need': 23907,\n",
       " 'pair': 25721,\n",
       " 'tore': 36189,\n",
       " 'struggled': 34133,\n",
       " 'riddancebad': 30154,\n",
       " 'investment': 18834,\n",
       " 'delicious': 9690,\n",
       " 'cookie': 8340,\n",
       " 'funny': 14784,\n",
       " 'knowing': 19957,\n",
       " 'header': 16595,\n",
       " 'quickly': 28514,\n",
       " 'packaged': 25652,\n",
       " 'cookies': 8341,\n",
       " 'noticed': 24426,\n",
       " 'since': 32309,\n",
       " 'titlethis': 36008,\n",
       " 'baking': 3595,\n",
       " 'convenience': 8281,\n",
       " 'dough': 10991,\n",
       " 'wrapped': 39561,\n",
       " 'plastic': 26784,\n",
       " 'logs': 21095,\n",
       " 'surprise': 34589,\n",
       " 'mixing': 22891,\n",
       " 'messy': 22461,\n",
       " 'extremely': 13100,\n",
       " 'sticky': 33840,\n",
       " 'flexibility': 14045,\n",
       " 'ratio': 28779,\n",
       " 'ingredients': 18317,\n",
       " 'extra': 13083,\n",
       " 'butter': 5696,\n",
       " 'baked': 3591,\n",
       " 'chewy': 6769,\n",
       " 'really': 28952,\n",
       " 'large': 20228,\n",
       " 'chocolate': 6873,\n",
       " 'chips': 6846,\n",
       " 'thati': 35383,\n",
       " 'addition': 1409,\n",
       " 'natural': 23813,\n",
       " 'flavors': 14020,\n",
       " 'abysmal': 1151,\n",
       " 'digital': 10249,\n",
       " 'copy': 8386,\n",
       " 'rather': 28774,\n",
       " 'scratches': 31190,\n",
       " 'insect': 18427,\n",
       " 'droppings': 11199,\n",
       " 'random': 28706,\n",
       " 'pixelations': 26709,\n",
       " 'combined': 7565,\n",
       " 'muddy': 23484,\n",
       " 'light': 20754,\n",
       " 'vague': 37825,\n",
       " 'image': 17823,\n",
       " 'resolution': 29838,\n",
       " 'cue': 9009,\n",
       " 'packaging': 25656,\n",
       " 'straight': 33992,\n",
       " 'street': 34051,\n",
       " 'corner': 8430,\n",
       " 'bootleg': 4951,\n",
       " 'dealerif': 9418,\n",
       " 'seen': 31374,\n",
       " 'reasonably': 28984,\n",
       " 'condition': 7969,\n",
       " 'film': 13734,\n",
       " 'defining': 9616,\n",
       " 'visuals': 38269,\n",
       " 'crystal': 8975,\n",
       " 'lighting': 20765,\n",
       " 'contrasts': 8252,\n",
       " 'black': 4490,\n",
       " 'surrounding': 34611,\n",
       " 'countryside': 8568,\n",
       " 'old': 24875,\n",
       " 'scenes': 31044,\n",
       " 'set': 31672,\n",
       " 'early': 11487,\n",
       " 'morning': 23206,\n",
       " 'ground': 15965,\n",
       " 'mists': 22862,\n",
       " 'haze': 16569,\n",
       " 'memory': 22346,\n",
       " 'events': 12603,\n",
       " 'bridge': 5296,\n",
       " 'water': 38627,\n",
       " 'bright': 5305,\n",
       " 'immediatehere': 17874,\n",
       " 'dull': 11300,\n",
       " 'dark': 9291,\n",
       " 'clouded': 7320,\n",
       " 'timbre': 35872,\n",
       " 'enunciation': 12308,\n",
       " 'captains': 6026,\n",
       " 'commands': 7631,\n",
       " 'visualsafter': 38270,\n",
       " 'hard': 16388,\n",
       " 'award': 3382,\n",
       " 'winning': 39195,\n",
       " 'critically': 8857,\n",
       " 'acclaimed': 1198,\n",
       " 'films': 13757,\n",
       " 'presentation': 27588,\n",
       " 'youtube': 39895,\n",
       " 'somewhere': 32967,\n",
       " 'dvd': 11387,\n",
       " 'comes': 7592,\n",
       " '16mm': 200,\n",
       " 'public': 28207,\n",
       " 'library': 20677,\n",
       " 'reeljust': 29242,\n",
       " 'none': 24257,\n",
       " 'appear': 2633,\n",
       " 'fascinating': 13418,\n",
       " 'insight': 18442,\n",
       " 'modern': 22940,\n",
       " 'japanese': 19236,\n",
       " 'teens': 35133,\n",
       " 'thoroughly': 35668,\n",
       " 'enjoyed': 12179,\n",
       " 'rising': 30248,\n",
       " 'sons': 33026,\n",
       " 'daughters': 9333,\n",
       " 'looks': 21151,\n",
       " 'society': 32838,\n",
       " 'view': 38148,\n",
       " 'poised': 27022,\n",
       " 'parents': 25855,\n",
       " 'ageold': 1684,\n",
       " 'culture': 9028,\n",
       " 'restraint': 29912,\n",
       " 'obedience': 24621,\n",
       " 'community': 7696,\n",
       " 'peers': 26140,\n",
       " 'adulation': 1505,\n",
       " 'western': 38914,\n",
       " 'form': 14345,\n",
       " 'new': 24024,\n",
       " 'japan': 19234,\n",
       " 'seem': 31364,\n",
       " 'creating': 8753,\n",
       " 'international': 18681,\n",
       " 'blend': 4574,\n",
       " 'ando': 2287,\n",
       " 'demonstrates': 9772,\n",
       " 'vignettes': 38171,\n",
       " 'private': 27786,\n",
       " 'lives': 20997,\n",
       " 'members': 22330,\n",
       " 'steven': 33825,\n",
       " 'wardell': 38506,\n",
       " 'clearly': 7196,\n",
       " 'talented': 34904,\n",
       " 'adopted': 1488,\n",
       " 'schooling': 31108,\n",
       " 'four': 14433,\n",
       " 'thus': 35797,\n",
       " 'able': 1067,\n",
       " 'inside': 18440,\n",
       " 'liked': 20790,\n",
       " 'album': 1852,\n",
       " 'obut': 24674,\n",
       " 'listened': 20920,\n",
       " 'blue': 4653,\n",
       " 'angellanna': 2323,\n",
       " 'mama': 21647,\n",
       " 'hair': 16199,\n",
       " 'rose': 30469,\n",
       " 'neckroy': 23901,\n",
       " 'trully': 36722,\n",
       " 'singer': 32324,\n",
       " 'talent': 34903,\n",
       " 'find': 13783,\n",
       " 'days': 9364,\n",
       " 'problem': 27812,\n",
       " 'charging': 6622,\n",
       " 'aaas': 1013,\n",
       " 'charger': 6614,\n",
       " 'charges': 6620,\n",
       " 'aa': 1009,\n",
       " 'batteries': 3832,\n",
       " 'huge': 17482,\n",
       " 'securing': 31339,\n",
       " 'aaa': 1010,\n",
       " 'charge': 6608,\n",
       " 'flip': 14071,\n",
       " 'little': 20965,\n",
       " 'button': 5705,\n",
       " 'positive': 27238,\n",
       " 'pop': 27141,\n",
       " 'wont': 39380,\n",
       " 'hold': 17136,\n",
       " 'mechanism': 22202,\n",
       " 'became': 3958,\n",
       " 'loose': 21170,\n",
       " 'horizontal': 17291,\n",
       " 'pressure': 27622,\n",
       " 'push': 28360,\n",
       " 'buttons': 5709,\n",
       " 'using': 37756,\n",
       " 'duct': 11273,\n",
       " 'tape': 34963,\n",
       " 'segment': 31393,\n",
       " 'crayon': 8724,\n",
       " 'apply': 2671,\n",
       " 'wrap': 39559,\n",
       " 'painful': 25700,\n",
       " 'advertised': 1542,\n",
       " 'chargersthe': 6618,\n",
       " 'instructions': 18541,\n",
       " 'lights': 20775,\n",
       " 'stay': 33744,\n",
       " 'battery': 3835,\n",
       " 'chargestrue': 6621,\n",
       " 'turn': 36829,\n",
       " 'done': 10897,\n",
       " '24': 465,\n",
       " 'hours': 17393,\n",
       " 'returned': 29987,\n",
       " 'thinking': 35591,\n",
       " 'unitthe': 37373,\n",
       " 'kept': 19725,\n",
       " 'chargebut': 6611,\n",
       " 'useless': 37737,\n",
       " 'backup': 3538,\n",
       " 'manage': 21655,\n",
       " 'drain': 11072,\n",
       " 'aas': 1019,\n",
       " 'wouldnt': 39540,\n",
       " 'reviewsmade': 30049,\n",
       " 'purchase': 28305,\n",
       " 'convenient': 8282,\n",
       " 'lasts': 20264,\n",
       " 'short': 32015,\n",
       " 'longer': 21119,\n",
       " 'kodak': 19984,\n",
       " 'nimh': 24158,\n",
       " 'dear': 9427,\n",
       " 'excited': 12787,\n",
       " 'ostensibly': 25293,\n",
       " 'muslim': 23610,\n",
       " 'feminism': 13606,\n",
       " 'volume': 38332,\n",
       " 'live': 20975,\n",
       " 'expectationsone': 12911,\n",
       " 'essay': 12480,\n",
       " 'among': 2203,\n",
       " 'things': 35575,\n",
       " 'describes': 9877,\n",
       " 'veil': 37946,\n",
       " 'potentially': 27311,\n",
       " 'liberating': 20666,\n",
       " 'doesnt': 10830,\n",
       " 'explain': 12982,\n",
       " 'whyanother': 39071,\n",
       " 'women': 39348,\n",
       " 'cape': 5996,\n",
       " 'town': 36295,\n",
       " 'claims': 7085,\n",
       " 'separate': 31580,\n",
       " 'equal': 12367,\n",
       " 'gee': 15124,\n",
       " 'whiz': 39042,\n",
       " 'disappointmenti': 10403,\n",
       " 'hoped': 17262,\n",
       " 'feminist': 13607,\n",
       " 'condemnation': 7958,\n",
       " 'gender': 15148,\n",
       " 'apartheid': 2566,\n",
       " 'bookim': 4857,\n",
       " 'extolling': 13081,\n",
       " 'virtues': 38233,\n",
       " 'female': 13599,\n",
       " 'genital': 15181,\n",
       " 'mutilationalyssa': 23643,\n",
       " 'lappen': 20220,\n",
       " 'based': 3761,\n",
       " 'vcrdvd': 37924,\n",
       " 'christmas': 6944,\n",
       " 'present': 27586,\n",
       " 'deciding': 9501,\n",
       " 'join': 19435,\n",
       " 'rest': 29889,\n",
       " 'dvdland': 11397,\n",
       " 'vhs': 38072,\n",
       " 'movies': 23385,\n",
       " 'jvc': 19607,\n",
       " 'tv': 36857,\n",
       " 'choice': 6877,\n",
       " 'agree': 1720,\n",
       " 'setup': 31703,\n",
       " 'awkward': 3425,\n",
       " 'tvvhsdvd': 36869,\n",
       " 'selection': 31411,\n",
       " 'options': 25156,\n",
       " 'hang': 16320,\n",
       " 'ittwo': 19128,\n",
       " 'comments': 7647,\n",
       " 'intuitive': 18795,\n",
       " 'complicated': 7826,\n",
       " 'many': 21771,\n",
       " 'remote': 29584,\n",
       " 'technicallyminded': 35084,\n",
       " 'rely': 29515,\n",
       " 'heavily': 16699,\n",
       " 'howto': 17442,\n",
       " 'manual': 21748,\n",
       " 'setting': 31689,\n",
       " 'vcr': 37923,\n",
       " 'timer': 35910,\n",
       " 'enter': 12241,\n",
       " 'start': 33679,\n",
       " 'scroll': 31237,\n",
       " 'somethingbut': 32954,\n",
       " 'complaints': 7795,\n",
       " 'incorrect': 18116,\n",
       " 'disc': 10420,\n",
       " 'fan': 13323,\n",
       " 'suspiscious': 34654,\n",
       " 'saw': 30932,\n",
       " 'units': 37370,\n",
       " 'return': 29985,\n",
       " 'section': 31328,\n",
       " 'happy': 16380,\n",
       " 'unit': 37363,\n",
       " 'sends': 31522,\n",
       " 'clicks': 7226,\n",
       " 'receiver': 29049,\n",
       " 'transition': 36442,\n",
       " 'smoothlike': 32728,\n",
       " 'pause': 26047,\n",
       " 'fairly': 13241,\n",
       " 'dvdcd': 11394,\n",
       " 'headcleaner': 16593,\n",
       " 'message': 22447,\n",
       " 'itbut': 19017,\n",
       " 'nuti': 24583,\n",
       " 'televisions': 35157,\n",
       " 'bookshelf': 4895,\n",
       " 'audio': 3210,\n",
       " 'system': 34821,\n",
       " 'car': 6047,\n",
       " 'came': 5872,\n",
       " 'move': 23327,\n",
       " 'player': 26825,\n",
       " 'boys': 5130,\n",
       " 'room': 30444,\n",
       " 'knew': 19919,\n",
       " 'combo': 7568,\n",
       " 'except': 12760,\n",
       " '2': 372,\n",
       " 'things1no': 35576,\n",
       " 'cable': 5796,\n",
       " 'box': 5104,\n",
       " 'compatability': 7745,\n",
       " ...}"
      ]
     },
     "execution_count": 27,
     "metadata": {},
     "output_type": "execute_result"
    }
   ],
   "source": [
    "bow_tranformer.vocabulary_# count of each word for how many times."
   ]
  },
  {
   "cell_type": "code",
   "execution_count": 28,
   "metadata": {},
   "outputs": [
    {
     "data": {
      "text/plain": [
       "40040"
      ]
     },
     "execution_count": 28,
     "metadata": {},
     "output_type": "execute_result"
    }
   ],
   "source": [
    "len(bow_tranformer.vocabulary_)# TDM has these many columns"
   ]
  },
  {
   "cell_type": "code",
   "execution_count": 29,
   "metadata": {},
   "outputs": [],
   "source": [
    "messages_bow=bow_tranformer.transform(a.review)"
   ]
  },
  {
   "cell_type": "code",
   "execution_count": 30,
   "metadata": {},
   "outputs": [],
   "source": [
    "#sampling\n",
    "from sklearn.model_selection import train_test_split\n",
    "x_train,x_test,y_train,y_test=train_test_split(messages_bow,a.label,test_size=.2)"
   ]
  },
  {
   "cell_type": "code",
   "execution_count": 31,
   "metadata": {},
   "outputs": [],
   "source": [
    "#naive Bayes"
   ]
  },
  {
   "cell_type": "code",
   "execution_count": 32,
   "metadata": {},
   "outputs": [],
   "source": [
    "from sklearn.naive_bayes import MultinomialNB"
   ]
  },
  {
   "cell_type": "code",
   "execution_count": 33,
   "metadata": {},
   "outputs": [],
   "source": [
    "NB=MultinomialNB()"
   ]
  },
  {
   "cell_type": "code",
   "execution_count": 53,
   "metadata": {},
   "outputs": [
    {
     "data": {
      "text/plain": [
       "MultinomialNB(alpha=1.0, class_prior=None, fit_prior=True)"
      ]
     },
     "execution_count": 53,
     "metadata": {},
     "output_type": "execute_result"
    }
   ],
   "source": [
    "NB.fit(x_train,y_train)"
   ]
  },
  {
   "cell_type": "code",
   "execution_count": 54,
   "metadata": {},
   "outputs": [
    {
     "data": {
      "text/plain": [
       "array([0, 1, 0, ..., 1, 0, 1], dtype=int64)"
      ]
     },
     "execution_count": 54,
     "metadata": {},
     "output_type": "execute_result"
    }
   ],
   "source": [
    "pred_test_y=NB.predict(x_test)\n",
    "pred_test_y"
   ]
  },
  {
   "cell_type": "code",
   "execution_count": 55,
   "metadata": {},
   "outputs": [
    {
     "data": {
      "text/plain": [
       "array([[880, 167],\n",
       "       [150, 803]], dtype=int64)"
      ]
     },
     "execution_count": 55,
     "metadata": {},
     "output_type": "execute_result"
    }
   ],
   "source": [
    "from sklearn.metrics import confusion_matrix\n",
    "confusion_matrix(pred_test_y,y_test)"
   ]
  },
  {
   "cell_type": "code",
   "execution_count": 56,
   "metadata": {},
   "outputs": [
    {
     "data": {
      "text/plain": [
       "0.8415"
      ]
     },
     "execution_count": 56,
     "metadata": {},
     "output_type": "execute_result"
    }
   ],
   "source": [
    "from sklearn.metrics import accuracy_score\n",
    "accuracy_score(y_test,pred_test_y)"
   ]
  },
  {
   "cell_type": "code",
   "execution_count": null,
   "metadata": {},
   "outputs": [],
   "source": [
    "#Random Forest"
   ]
  },
  {
   "cell_type": "code",
   "execution_count": 57,
   "metadata": {},
   "outputs": [
    {
     "data": {
      "text/plain": [
       "RandomForestClassifier(bootstrap=True, ccp_alpha=0.0, class_weight=None,\n",
       "                       criterion='gini', max_depth=None, max_features='auto',\n",
       "                       max_leaf_nodes=None, max_samples=None,\n",
       "                       min_impurity_decrease=0.0, min_impurity_split=None,\n",
       "                       min_samples_leaf=1, min_samples_split=2,\n",
       "                       min_weight_fraction_leaf=0.0, n_estimators=100,\n",
       "                       n_jobs=None, oob_score=False, random_state=None,\n",
       "                       verbose=0, warm_start=False)"
      ]
     },
     "execution_count": 57,
     "metadata": {},
     "output_type": "execute_result"
    }
   ],
   "source": [
    "from sklearn.ensemble import RandomForestClassifier\n",
    "rf=RandomForestClassifier()\n",
    "rf.fit(x_train,y_train)"
   ]
  },
  {
   "cell_type": "code",
   "execution_count": 39,
   "metadata": {},
   "outputs": [
    {
     "data": {
      "text/plain": [
       "array([0, 1, 0, ..., 1, 1, 1], dtype=int64)"
      ]
     },
     "execution_count": 39,
     "metadata": {},
     "output_type": "execute_result"
    }
   ],
   "source": [
    "pred_y=rf.predict(x_test)\n",
    "pred_y"
   ]
  },
  {
   "cell_type": "code",
   "execution_count": 40,
   "metadata": {},
   "outputs": [
    {
     "data": {
      "text/plain": [
       "array([[860, 144],\n",
       "       [170, 826]], dtype=int64)"
      ]
     },
     "execution_count": 40,
     "metadata": {},
     "output_type": "execute_result"
    }
   ],
   "source": [
    "from sklearn.metrics import confusion_matrix\n",
    "confusion_matrix(pred_y,y_test)"
   ]
  },
  {
   "cell_type": "code",
   "execution_count": 41,
   "metadata": {},
   "outputs": [
    {
     "data": {
      "text/plain": [
       "0.843"
      ]
     },
     "execution_count": 41,
     "metadata": {},
     "output_type": "execute_result"
    }
   ],
   "source": [
    "from sklearn.metrics import accuracy_score\n",
    "accuracy_score(y_test,pred_y)"
   ]
  },
  {
   "cell_type": "code",
   "execution_count": 42,
   "metadata": {},
   "outputs": [],
   "source": [
    "#Decision tree"
   ]
  },
  {
   "cell_type": "code",
   "execution_count": 43,
   "metadata": {},
   "outputs": [
    {
     "data": {
      "text/plain": [
       "DecisionTreeClassifier(ccp_alpha=0.0, class_weight=None, criterion='gini',\n",
       "                       max_depth=None, max_features=None, max_leaf_nodes=None,\n",
       "                       min_impurity_decrease=0.0, min_impurity_split=None,\n",
       "                       min_samples_leaf=1, min_samples_split=2,\n",
       "                       min_weight_fraction_leaf=0.0, presort='deprecated',\n",
       "                       random_state=None, splitter='best')"
      ]
     },
     "execution_count": 43,
     "metadata": {},
     "output_type": "execute_result"
    }
   ],
   "source": [
    "from sklearn.tree import DecisionTreeClassifier\n",
    "dt=DecisionTreeClassifier()\n",
    "dt.fit(x_train,y_train)"
   ]
  },
  {
   "cell_type": "code",
   "execution_count": 58,
   "metadata": {},
   "outputs": [
    {
     "data": {
      "text/plain": [
       "array([1, 1, 0, ..., 1, 1, 1], dtype=int64)"
      ]
     },
     "execution_count": 58,
     "metadata": {},
     "output_type": "execute_result"
    }
   ],
   "source": [
    "pred_y=dt.predict(x_test)\n",
    "pred_y"
   ]
  },
  {
   "cell_type": "code",
   "execution_count": 59,
   "metadata": {},
   "outputs": [
    {
     "data": {
      "text/plain": [
       "array([[735, 233],\n",
       "       [295, 737]], dtype=int64)"
      ]
     },
     "execution_count": 59,
     "metadata": {},
     "output_type": "execute_result"
    }
   ],
   "source": [
    "from sklearn.metrics import confusion_matrix\n",
    "confusion_matrix(pred_y,y_test)    "
   ]
  },
  {
   "cell_type": "code",
   "execution_count": 60,
   "metadata": {},
   "outputs": [
    {
     "data": {
      "text/plain": [
       "0.736"
      ]
     },
     "execution_count": 60,
     "metadata": {},
     "output_type": "execute_result"
    }
   ],
   "source": [
    "from sklearn.metrics import accuracy_score\n",
    "accuracy_score(y_test,pred_y)"
   ]
  },
  {
   "cell_type": "code",
   "execution_count": 47,
   "metadata": {},
   "outputs": [],
   "source": [
    "#Logistic Regression"
   ]
  },
  {
   "cell_type": "code",
   "execution_count": 61,
   "metadata": {},
   "outputs": [
    {
     "data": {
      "text/plain": [
       "LogisticRegression(C=1.0, class_weight=None, dual=False, fit_intercept=True,\n",
       "                   intercept_scaling=1, l1_ratio=None, max_iter=100,\n",
       "                   multi_class='auto', n_jobs=None, penalty='l2',\n",
       "                   random_state=None, solver='lbfgs', tol=0.0001, verbose=0,\n",
       "                   warm_start=False)"
      ]
     },
     "execution_count": 61,
     "metadata": {},
     "output_type": "execute_result"
    }
   ],
   "source": [
    "from sklearn.linear_model import LogisticRegression\n",
    "logmodel=LogisticRegression()\n",
    "logmodel.fit(x_train,y_train)"
   ]
  },
  {
   "cell_type": "code",
   "execution_count": 62,
   "metadata": {},
   "outputs": [
    {
     "data": {
      "text/plain": [
       "array([0, 1, 0, ..., 1, 0, 1], dtype=int64)"
      ]
     },
     "execution_count": 62,
     "metadata": {},
     "output_type": "execute_result"
    }
   ],
   "source": [
    "pred_y=logmodel.predict(x_test)\n",
    "pred_y"
   ]
  },
  {
   "cell_type": "code",
   "execution_count": 63,
   "metadata": {},
   "outputs": [
    {
     "data": {
      "text/plain": [
       "array([[866, 145],\n",
       "       [164, 825]], dtype=int64)"
      ]
     },
     "execution_count": 63,
     "metadata": {},
     "output_type": "execute_result"
    }
   ],
   "source": [
    "from sklearn.metrics import confusion_matrix\n",
    "confusion_matrix(pred_y,y_test)    "
   ]
  },
  {
   "cell_type": "code",
   "execution_count": 64,
   "metadata": {},
   "outputs": [
    {
     "data": {
      "text/plain": [
       "0.8455"
      ]
     },
     "execution_count": 64,
     "metadata": {},
     "output_type": "execute_result"
    }
   ],
   "source": [
    "from sklearn.metrics import accuracy_score\n",
    "accuracy_score(y_test,pred_y)"
   ]
  },
  {
   "cell_type": "code",
   "execution_count": 10,
   "metadata": {},
   "outputs": [],
   "source": [
    "#inbuilt sentimental analysis\n",
    "import nltk"
   ]
  },
  {
   "cell_type": "code",
   "execution_count": 6,
   "metadata": {},
   "outputs": [],
   "source": [
    "from nltk.sentiment.vader import SentimentIntensityAnalyzer"
   ]
  },
  {
   "cell_type": "code",
   "execution_count": 4,
   "metadata": {},
   "outputs": [
    {
     "name": "stderr",
     "output_type": "stream",
     "text": [
      "[nltk_data] Downloading package vader_lexicon to\n",
      "[nltk_data]     C:\\Users\\Admin\\AppData\\Roaming\\nltk_data...\n"
     ]
    },
    {
     "data": {
      "text/plain": [
       "True"
      ]
     },
     "execution_count": 4,
     "metadata": {},
     "output_type": "execute_result"
    }
   ],
   "source": [
    "nltk.download(\"vader_lexicon\")# inbuilt library of nltk"
   ]
  },
  {
   "cell_type": "code",
   "execution_count": 7,
   "metadata": {},
   "outputs": [],
   "source": [
    "sent=SentimentIntensityAnalyzer()"
   ]
  },
  {
   "cell_type": "code",
   "execution_count": null,
   "metadata": {},
   "outputs": [],
   "source": []
  },
  {
   "cell_type": "code",
   "execution_count": 25,
   "metadata": {},
   "outputs": [
    {
     "data": {
      "text/plain": [
       "{'neg': 0.0, 'neu': 0.593, 'pos': 0.407, 'compound': 0.6705}"
      ]
     },
     "execution_count": 25,
     "metadata": {},
     "output_type": "execute_result"
    }
   ],
   "source": [
    "sent.polarity_scores(\"this scotch was awesome.I had a heavenly feeling by taking a sip\")# instead  of  printing store in varibales and then access"
   ]
  },
  {
   "cell_type": "code",
   "execution_count": 21,
   "metadata": {},
   "outputs": [],
   "source": [
    "abc=sent.polarity_scores(\"this scotch was awesome.I had a heavenly feeling by taking a sip\")# instead  of  printing store in varibales and then access\n",
    "# overall sentiment is positive as value of compound is positive"
   ]
  },
  {
   "cell_type": "code",
   "execution_count": 22,
   "metadata": {},
   "outputs": [
    {
     "data": {
      "text/plain": [
       "0.6705"
      ]
     },
     "execution_count": 22,
     "metadata": {},
     "output_type": "execute_result"
    }
   ],
   "source": [
    "abc['compound']"
   ]
  },
  {
   "cell_type": "code",
   "execution_count": 23,
   "metadata": {},
   "outputs": [
    {
     "data": {
      "text/plain": [
       "0.0"
      ]
     },
     "execution_count": 23,
     "metadata": {},
     "output_type": "execute_result"
    }
   ],
   "source": [
    "abc['neg']"
   ]
  },
  {
   "cell_type": "code",
   "execution_count": 24,
   "metadata": {},
   "outputs": [
    {
     "data": {
      "text/plain": [
       "0.407"
      ]
     },
     "execution_count": 24,
     "metadata": {},
     "output_type": "execute_result"
    }
   ],
   "source": [
    "abc['pos']"
   ]
  },
  {
   "cell_type": "code",
   "execution_count": null,
   "metadata": {},
   "outputs": [],
   "source": [
    "# cop=overall sentiment\n",
    "#-1 to +1"
   ]
  },
  {
   "cell_type": "code",
   "execution_count": 9,
   "metadata": {},
   "outputs": [],
   "source": [
    "str1=\"it was s horrible flight,filled of turbulence\""
   ]
  },
  {
   "cell_type": "code",
   "execution_count": 10,
   "metadata": {},
   "outputs": [
    {
     "data": {
      "text/plain": [
       "{'neg': 0.412, 'neu': 0.588, 'pos': 0.0, 'compound': -0.5423}"
      ]
     },
     "execution_count": 10,
     "metadata": {},
     "output_type": "execute_result"
    }
   ],
   "source": [
    "sent.polarity_scores(str1)# negative as overall value of sts is negative"
   ]
  },
  {
   "cell_type": "code",
   "execution_count": 13,
   "metadata": {},
   "outputs": [],
   "source": [
    "str2=\"product of very beautiful but not of any use\"# sychastic comment\n"
   ]
  },
  {
   "cell_type": "code",
   "execution_count": 14,
   "metadata": {},
   "outputs": [
    {
     "data": {
      "text/plain": [
       "{'neg': 0.0, 'neu': 0.755, 'pos': 0.245, 'compound': 0.3811}"
      ]
     },
     "execution_count": 14,
     "metadata": {},
     "output_type": "execute_result"
    }
   ],
   "source": [
    "sent.polarity_scores(str2)# overall sentinemt is positive"
   ]
  },
  {
   "cell_type": "code",
   "execution_count": 15,
   "metadata": {},
   "outputs": [],
   "source": [
    "str3=\"product of very beautiful but it is of useless\"\n"
   ]
  },
  {
   "cell_type": "code",
   "execution_count": 16,
   "metadata": {},
   "outputs": [
    {
     "data": {
      "text/plain": [
       "{'neg': 0.278, 'neu': 0.526, 'pos': 0.195, 'compound': -0.274}"
      ]
     },
     "execution_count": 16,
     "metadata": {},
     "output_type": "execute_result"
    }
   ],
   "source": [
    "sent.polarity_scores(str3)# overall sentinment is negative"
   ]
  },
  {
   "cell_type": "code",
   "execution_count": 1,
   "metadata": {},
   "outputs": [],
   "source": [
    "# comentsall not siach\n",
    "import pandas as pd"
   ]
  },
  {
   "cell_type": "code",
   "execution_count": 2,
   "metadata": {},
   "outputs": [],
   "source": [
    "amazon=pd.read_csv(r\"F:\\\\study\\\\data science\\\\pandas_dataset\\\\amazonreviews.tsv\",sep='\\t')"
   ]
  },
  {
   "cell_type": "code",
   "execution_count": 3,
   "metadata": {},
   "outputs": [
    {
     "data": {
      "text/plain": [
       "'Stuning even for the non-gamer: This sound track was beautiful! It paints the senery in your mind so well I would recomend it even to people who hate vid. game music! I have played the game Chrono Cross but out of all of the games I have ever played it has the best music! It backs away from crude keyboarding and takes a fresher step with grate guitars and soulful orchestras. It would impress anyone who cares to listen! ^_^'"
      ]
     },
     "execution_count": 3,
     "metadata": {},
     "output_type": "execute_result"
    }
   ],
   "source": [
    "amazon.iloc[0][1]"
   ]
  },
  {
   "cell_type": "code",
   "execution_count": 4,
   "metadata": {},
   "outputs": [],
   "source": [
    "score_com=[]\n",
    "score_pos=[]\n",
    "score_neg=[]\n"
   ]
  },
  {
   "cell_type": "code",
   "execution_count": 8,
   "metadata": {},
   "outputs": [],
   "source": [
    "for i in range(0,amazon.shape[0]):\n",
    "    score=sent.polarity_scores(amazon.iloc[i][1])\n",
    "    score1=score['compound']\n",
    "    score_com.append(score1)\n",
    "    score2=score['pos']\n",
    "    score_pos.append(score2)\n",
    "    # below two lines fetch neg\n",
    "    score3=score['neg']\n",
    "    score_neg.append(score3)"
   ]
  },
  {
   "cell_type": "code",
   "execution_count": 9,
   "metadata": {},
   "outputs": [],
   "source": [
    "amazon['Comp-Score']=score_com\n",
    "amazon['Pos-Score']=score_pos\n",
    "amazon['Neg-Score']=score_neg\n"
   ]
  },
  {
   "cell_type": "code",
   "execution_count": 10,
   "metadata": {},
   "outputs": [
    {
     "data": {
      "text/html": [
       "<div>\n",
       "<style scoped>\n",
       "    .dataframe tbody tr th:only-of-type {\n",
       "        vertical-align: middle;\n",
       "    }\n",
       "\n",
       "    .dataframe tbody tr th {\n",
       "        vertical-align: top;\n",
       "    }\n",
       "\n",
       "    .dataframe thead th {\n",
       "        text-align: right;\n",
       "    }\n",
       "</style>\n",
       "<table border=\"1\" class=\"dataframe\">\n",
       "  <thead>\n",
       "    <tr style=\"text-align: right;\">\n",
       "      <th></th>\n",
       "      <th>label</th>\n",
       "      <th>review</th>\n",
       "      <th>Comp-Score</th>\n",
       "      <th>Pos-Score</th>\n",
       "      <th>Neg-Score</th>\n",
       "    </tr>\n",
       "  </thead>\n",
       "  <tbody>\n",
       "    <tr>\n",
       "      <th>0</th>\n",
       "      <td>pos</td>\n",
       "      <td>Stuning even for the non-gamer: This sound tra...</td>\n",
       "      <td>0.9454</td>\n",
       "      <td>0.243</td>\n",
       "      <td>0.088</td>\n",
       "    </tr>\n",
       "    <tr>\n",
       "      <th>1</th>\n",
       "      <td>pos</td>\n",
       "      <td>The best soundtrack ever to anything.: I'm rea...</td>\n",
       "      <td>0.8957</td>\n",
       "      <td>0.145</td>\n",
       "      <td>0.018</td>\n",
       "    </tr>\n",
       "    <tr>\n",
       "      <th>2</th>\n",
       "      <td>pos</td>\n",
       "      <td>Amazing!: This soundtrack is my favorite music...</td>\n",
       "      <td>0.9858</td>\n",
       "      <td>0.268</td>\n",
       "      <td>0.040</td>\n",
       "    </tr>\n",
       "    <tr>\n",
       "      <th>3</th>\n",
       "      <td>pos</td>\n",
       "      <td>Excellent Soundtrack: I truly like this soundt...</td>\n",
       "      <td>0.9814</td>\n",
       "      <td>0.295</td>\n",
       "      <td>0.090</td>\n",
       "    </tr>\n",
       "    <tr>\n",
       "      <th>4</th>\n",
       "      <td>pos</td>\n",
       "      <td>Remember, Pull Your Jaw Off The Floor After He...</td>\n",
       "      <td>0.9781</td>\n",
       "      <td>0.254</td>\n",
       "      <td>0.000</td>\n",
       "    </tr>\n",
       "    <tr>\n",
       "      <th>...</th>\n",
       "      <td>...</td>\n",
       "      <td>...</td>\n",
       "      <td>...</td>\n",
       "      <td>...</td>\n",
       "      <td>...</td>\n",
       "    </tr>\n",
       "    <tr>\n",
       "      <th>9995</th>\n",
       "      <td>pos</td>\n",
       "      <td>A revelation of life in small town America in ...</td>\n",
       "      <td>0.9610</td>\n",
       "      <td>0.136</td>\n",
       "      <td>0.017</td>\n",
       "    </tr>\n",
       "    <tr>\n",
       "      <th>9996</th>\n",
       "      <td>pos</td>\n",
       "      <td>Great biography of a very interesting journali...</td>\n",
       "      <td>0.9544</td>\n",
       "      <td>0.132</td>\n",
       "      <td>0.000</td>\n",
       "    </tr>\n",
       "    <tr>\n",
       "      <th>9997</th>\n",
       "      <td>neg</td>\n",
       "      <td>Interesting Subject; Poor Presentation: You'd ...</td>\n",
       "      <td>0.7074</td>\n",
       "      <td>0.137</td>\n",
       "      <td>0.096</td>\n",
       "    </tr>\n",
       "    <tr>\n",
       "      <th>9998</th>\n",
       "      <td>neg</td>\n",
       "      <td>Don't buy: The box looked used and it is obvio...</td>\n",
       "      <td>-0.3595</td>\n",
       "      <td>0.000</td>\n",
       "      <td>0.091</td>\n",
       "    </tr>\n",
       "    <tr>\n",
       "      <th>9999</th>\n",
       "      <td>pos</td>\n",
       "      <td>Beautiful Pen and Fast Delivery.: The pen was ...</td>\n",
       "      <td>0.9107</td>\n",
       "      <td>0.161</td>\n",
       "      <td>0.028</td>\n",
       "    </tr>\n",
       "  </tbody>\n",
       "</table>\n",
       "<p>10000 rows × 5 columns</p>\n",
       "</div>"
      ],
      "text/plain": [
       "     label                                             review  Comp-Score  \\\n",
       "0      pos  Stuning even for the non-gamer: This sound tra...      0.9454   \n",
       "1      pos  The best soundtrack ever to anything.: I'm rea...      0.8957   \n",
       "2      pos  Amazing!: This soundtrack is my favorite music...      0.9858   \n",
       "3      pos  Excellent Soundtrack: I truly like this soundt...      0.9814   \n",
       "4      pos  Remember, Pull Your Jaw Off The Floor After He...      0.9781   \n",
       "...    ...                                                ...         ...   \n",
       "9995   pos  A revelation of life in small town America in ...      0.9610   \n",
       "9996   pos  Great biography of a very interesting journali...      0.9544   \n",
       "9997   neg  Interesting Subject; Poor Presentation: You'd ...      0.7074   \n",
       "9998   neg  Don't buy: The box looked used and it is obvio...     -0.3595   \n",
       "9999   pos  Beautiful Pen and Fast Delivery.: The pen was ...      0.9107   \n",
       "\n",
       "      Pos-Score  Neg-Score  \n",
       "0         0.243      0.088  \n",
       "1         0.145      0.018  \n",
       "2         0.268      0.040  \n",
       "3         0.295      0.090  \n",
       "4         0.254      0.000  \n",
       "...         ...        ...  \n",
       "9995      0.136      0.017  \n",
       "9996      0.132      0.000  \n",
       "9997      0.137      0.096  \n",
       "9998      0.000      0.091  \n",
       "9999      0.161      0.028  \n",
       "\n",
       "[10000 rows x 5 columns]"
      ]
     },
     "execution_count": 10,
     "metadata": {},
     "output_type": "execute_result"
    }
   ],
   "source": [
    "amazon"
   ]
  },
  {
   "cell_type": "code",
   "execution_count": 11,
   "metadata": {},
   "outputs": [
    {
     "data": {
      "text/html": [
       "<div>\n",
       "<style scoped>\n",
       "    .dataframe tbody tr th:only-of-type {\n",
       "        vertical-align: middle;\n",
       "    }\n",
       "\n",
       "    .dataframe tbody tr th {\n",
       "        vertical-align: top;\n",
       "    }\n",
       "\n",
       "    .dataframe thead th {\n",
       "        text-align: right;\n",
       "    }\n",
       "</style>\n",
       "<table border=\"1\" class=\"dataframe\">\n",
       "  <thead>\n",
       "    <tr style=\"text-align: right;\">\n",
       "      <th></th>\n",
       "      <th>Comp-Score</th>\n",
       "      <th>Pos-Score</th>\n",
       "      <th>Neg-Score</th>\n",
       "    </tr>\n",
       "  </thead>\n",
       "  <tbody>\n",
       "    <tr>\n",
       "      <th>count</th>\n",
       "      <td>10000.000000</td>\n",
       "      <td>10000.000000</td>\n",
       "      <td>10000.000000</td>\n",
       "    </tr>\n",
       "    <tr>\n",
       "      <th>mean</th>\n",
       "      <td>0.336444</td>\n",
       "      <td>0.151272</td>\n",
       "      <td>0.076174</td>\n",
       "    </tr>\n",
       "    <tr>\n",
       "      <th>std</th>\n",
       "      <td>0.674584</td>\n",
       "      <td>0.101934</td>\n",
       "      <td>0.073154</td>\n",
       "    </tr>\n",
       "    <tr>\n",
       "      <th>min</th>\n",
       "      <td>-0.994500</td>\n",
       "      <td>0.000000</td>\n",
       "      <td>0.000000</td>\n",
       "    </tr>\n",
       "    <tr>\n",
       "      <th>25%</th>\n",
       "      <td>-0.296000</td>\n",
       "      <td>0.079000</td>\n",
       "      <td>0.017000</td>\n",
       "    </tr>\n",
       "    <tr>\n",
       "      <th>50%</th>\n",
       "      <td>0.669600</td>\n",
       "      <td>0.135000</td>\n",
       "      <td>0.062000</td>\n",
       "    </tr>\n",
       "    <tr>\n",
       "      <th>75%</th>\n",
       "      <td>0.913600</td>\n",
       "      <td>0.207000</td>\n",
       "      <td>0.114000</td>\n",
       "    </tr>\n",
       "    <tr>\n",
       "      <th>max</th>\n",
       "      <td>0.998700</td>\n",
       "      <td>0.634000</td>\n",
       "      <td>0.611000</td>\n",
       "    </tr>\n",
       "  </tbody>\n",
       "</table>\n",
       "</div>"
      ],
      "text/plain": [
       "         Comp-Score     Pos-Score     Neg-Score\n",
       "count  10000.000000  10000.000000  10000.000000\n",
       "mean       0.336444      0.151272      0.076174\n",
       "std        0.674584      0.101934      0.073154\n",
       "min       -0.994500      0.000000      0.000000\n",
       "25%       -0.296000      0.079000      0.017000\n",
       "50%        0.669600      0.135000      0.062000\n",
       "75%        0.913600      0.207000      0.114000\n",
       "max        0.998700      0.634000      0.611000"
      ]
     },
     "execution_count": 11,
     "metadata": {},
     "output_type": "execute_result"
    }
   ],
   "source": [
    "amazon.describe()#"
   ]
  },
  {
   "cell_type": "code",
   "execution_count": null,
   "metadata": {},
   "outputs": [],
   "source": [
    "#amazon[\"Comp-Score\"]<0)\n",
    "#df1=where com>0\n",
    "#df2=where com>0"
   ]
  },
  {
   "cell_type": "code",
   "execution_count": 12,
   "metadata": {},
   "outputs": [
    {
     "data": {
      "text/plain": [
       "10000"
      ]
     },
     "execution_count": 12,
     "metadata": {},
     "output_type": "execute_result"
    }
   ],
   "source": [
    "len(amazon[\"Comp-Score\"]>0)# 6800pos and 2000 neg"
   ]
  },
  {
   "cell_type": "code",
   "execution_count": 14,
   "metadata": {},
   "outputs": [],
   "source": [
    "df1=amazon[amazon[\"Comp-Score\"]>0]"
   ]
  },
  {
   "cell_type": "code",
   "execution_count": 16,
   "metadata": {},
   "outputs": [
    {
     "data": {
      "text/plain": [
       "(6801, 5)"
      ]
     },
     "execution_count": 16,
     "metadata": {},
     "output_type": "execute_result"
    }
   ],
   "source": [
    "df1.shape# means positive sentiment"
   ]
  },
  {
   "cell_type": "code",
   "execution_count": 18,
   "metadata": {},
   "outputs": [],
   "source": [
    "df2=amazon[amazon[\"Comp-Score\"]<0]"
   ]
  },
  {
   "cell_type": "code",
   "execution_count": 19,
   "metadata": {},
   "outputs": [
    {
     "data": {
      "text/plain": [
       "(3058, 5)"
      ]
     },
     "execution_count": 19,
     "metadata": {},
     "output_type": "execute_result"
    }
   ],
   "source": [
    "df2.shape# neagative sentinemt"
   ]
  },
  {
   "cell_type": "code",
   "execution_count": null,
   "metadata": {},
   "outputs": [],
   "source": []
  }
 ],
 "metadata": {
  "kernelspec": {
   "display_name": "Python 3",
   "language": "python",
   "name": "python3"
  },
  "language_info": {
   "codemirror_mode": {
    "name": "ipython",
    "version": 3
   },
   "file_extension": ".py",
   "mimetype": "text/x-python",
   "name": "python",
   "nbconvert_exporter": "python",
   "pygments_lexer": "ipython3",
   "version": "3.7.6"
  }
 },
 "nbformat": 4,
 "nbformat_minor": 4
}
